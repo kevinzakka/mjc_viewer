{
 "cells": [
  {
   "cell_type": "code",
   "execution_count": null,
   "id": "29a994b8",
   "metadata": {},
   "outputs": [],
   "source": [
    "# @title Install dependencies\n",
    "\n",
    "# @markdown Please execute this cell by pressing the _Play_ button\n",
    "# @markdown on the left.\n",
    "\n",
    "# @markdown **Note**: This installs the software on the Colab\n",
    "# @markdown notebook in the cloud and not on your computer.\n",
    "\n",
    "%%capture\n",
    "!pip install --upgrade mjc_viewer\n",
    "!pip install --upgrade mujoco\n",
    "# Clone the MuJoCo repo to acccess the models.\n",
    "!git clone https://github.com/deepmind/mujoco.git\n",
    "\n",
    "import mujoco\n",
    "import numpy as np\n",
    "from mjc_viewer import Serializer, Trajectory\n",
    "from IPython.display import HTML"
   ]
  },
  {
   "cell_type": "code",
   "execution_count": null,
   "id": "d21925e6",
   "metadata": {},
   "outputs": [],
   "source": [
    "# Load the mujoco model.\n",
    "model = mujoco.MjModel.from_xml_path(\"mujoco/model/humanoid/22_humanoids.xml\")\n",
    "data = mujoco.MjData(model)"
   ]
  },
  {
   "cell_type": "code",
   "execution_count": null,
   "id": "0f99237a",
   "metadata": {},
   "outputs": [],
   "source": [
    "# The Serializer instance takes in the model and is responsible for serializing\n",
    "# it to a protocol buffer.\n",
    "serializer = Serializer(model)\n",
    "# The Trajectory instance takes in the data and records the position and\n",
    "# orientation of all bodies at every time step.\n",
    "trajectory = Trajectory(data)"
   ]
  },
  {
   "cell_type": "code",
   "execution_count": null,
   "id": "6c002830",
   "metadata": {},
   "outputs": [],
   "source": [
    "# @title Simulate\n",
    "\n",
    "duration = 2.0  # @param {type:\"number\"}\n",
    "add_noise = True  # @param {type:\"boolean\"}\n",
    "\n",
    "# Simulate!\n",
    "while data.time < duration:\n",
    "    if add_noise:\n",
    "        data.ctrl = np.random.uniform(*model.actuator_ctrlrange.T)\n",
    "    mujoco.mj_step(model, data)\n",
    "    trajectory.step()\n",
    "\n",
    "# Visualize!\n",
    "HTML(serializer.render(trajectory))"
   ]
  }
 ],
 "metadata": {
  "kernelspec": {
   "display_name": "Python 3.8.13 ('mjs')",
   "language": "python",
   "name": "python3"
  },
  "language_info": {
   "codemirror_mode": {
    "name": "ipython",
    "version": 3
   },
   "file_extension": ".py",
   "mimetype": "text/x-python",
   "name": "python",
   "nbconvert_exporter": "python",
   "pygments_lexer": "ipython3",
   "version": "3.8.13"
  },
  "vscode": {
   "interpreter": {
    "hash": "59e162102436b78358a703cbc5a22f437206c7faa6549a8f9dc9f953a8cd23de"
   }
  }
 },
 "nbformat": 4,
 "nbformat_minor": 5
}
